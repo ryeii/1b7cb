{
 "cells": [
  {
   "cell_type": "code",
   "execution_count": 1,
   "metadata": {},
   "outputs": [
    {
     "ename": "AttributeError",
     "evalue": "'DataFrame' object has no attribute 'append'",
     "output_type": "error",
     "traceback": [
      "\u001b[0;31m---------------------------------------------------------------------------\u001b[0m",
      "\u001b[0;31mAttributeError\u001b[0m                            Traceback (most recent call last)",
      "Cell \u001b[0;32mIn[1], line 20\u001b[0m\n\u001b[1;32m     18\u001b[0m     \u001b[39mif\u001b[39;00m col \u001b[39m!=\u001b[39m \u001b[39m'\u001b[39m\u001b[39mtimesteps\u001b[39m\u001b[39m'\u001b[39m:\n\u001b[1;32m     19\u001b[0m         sum_of_rewards \u001b[39m=\u001b[39m PPO_result[col]\u001b[39m.\u001b[39msum()\n\u001b[0;32m---> 20\u001b[0m         PPO_result_plot \u001b[39m=\u001b[39m PPO_result_plot\u001b[39m.\u001b[39;49mappend({\u001b[39m'\u001b[39m\u001b[39mtimesteps\u001b[39m\u001b[39m'\u001b[39m: \u001b[39mint\u001b[39m(col), \u001b[39m'\u001b[39m\u001b[39msum of rewards\u001b[39m\u001b[39m'\u001b[39m: sum_of_rewards}, ignore_index\u001b[39m=\u001b[39m\u001b[39mTrue\u001b[39;00m)\n\u001b[1;32m     22\u001b[0m \u001b[39m# plot\u001b[39;00m\n\u001b[1;32m     23\u001b[0m plt\u001b[39m.\u001b[39mfigure(figsize\u001b[39m=\u001b[39m(\u001b[39m10\u001b[39m, \u001b[39m5\u001b[39m))\n",
      "File \u001b[0;32m~/anaconda3/envs/zhiyu39/lib/python3.9/site-packages/pandas/core/generic.py:5989\u001b[0m, in \u001b[0;36mNDFrame.__getattr__\u001b[0;34m(self, name)\u001b[0m\n\u001b[1;32m   5982\u001b[0m \u001b[39mif\u001b[39;00m (\n\u001b[1;32m   5983\u001b[0m     name \u001b[39mnot\u001b[39;00m \u001b[39min\u001b[39;00m \u001b[39mself\u001b[39m\u001b[39m.\u001b[39m_internal_names_set\n\u001b[1;32m   5984\u001b[0m     \u001b[39mand\u001b[39;00m name \u001b[39mnot\u001b[39;00m \u001b[39min\u001b[39;00m \u001b[39mself\u001b[39m\u001b[39m.\u001b[39m_metadata\n\u001b[1;32m   5985\u001b[0m     \u001b[39mand\u001b[39;00m name \u001b[39mnot\u001b[39;00m \u001b[39min\u001b[39;00m \u001b[39mself\u001b[39m\u001b[39m.\u001b[39m_accessors\n\u001b[1;32m   5986\u001b[0m     \u001b[39mand\u001b[39;00m \u001b[39mself\u001b[39m\u001b[39m.\u001b[39m_info_axis\u001b[39m.\u001b[39m_can_hold_identifiers_and_holds_name(name)\n\u001b[1;32m   5987\u001b[0m ):\n\u001b[1;32m   5988\u001b[0m     \u001b[39mreturn\u001b[39;00m \u001b[39mself\u001b[39m[name]\n\u001b[0;32m-> 5989\u001b[0m \u001b[39mreturn\u001b[39;00m \u001b[39mobject\u001b[39;49m\u001b[39m.\u001b[39;49m\u001b[39m__getattribute__\u001b[39;49m(\u001b[39mself\u001b[39;49m, name)\n",
      "\u001b[0;31mAttributeError\u001b[0m: 'DataFrame' object has no attribute 'append'"
     ]
    }
   ],
   "source": [
    "import pandas as pd\n",
    "import numpy as np\n",
    "import matplotlib.pyplot as plt\n",
    "\n",
    "# read from DQN_models_Demo-v1_timesteps_result.csv\n",
    "DQN_result = pd.read_csv('DQN_models_Demo-v1_timesteps_result.csv')\n",
    "DQN_result = DQN_result.drop(columns=['Unnamed: 0'])\n",
    "\n",
    "# read from PPO_models_Demo-v1_timesteps_result.csv\n",
    "PPO_result = pd.read_csv('PPO_models_Demo-v1_timesteps_result.csv')\n",
    "PPO_result = PPO_result.drop(columns=['Unnamed: 0'])\n",
    "\n",
    "# new dataframe for plotting\n",
    "PPO_result_plot = pd.DataFrame(columns=['timesteps', 'sum of rewards'])\n",
    "\n",
    "# for each column name, calculate sum of rewards\n",
    "for col in PPO_result.columns:\n",
    "    if col != 'timesteps':\n",
    "        sum_of_rewards = PPO_result[col].sum()\n",
    "        PPO_result_plot = PPO_result_plot.append({'timesteps': int(col), 'sum of rewards': sum_of_rewards}, ignore_index=True)\n",
    "\n",
    "# plot\n",
    "plt.figure(figsize=(10, 5))\n",
    "\n",
    "# x lim\n",
    "plt.xlim(0, 100000)\n",
    "\n",
    "# plt.plot(DQN_result_plot['timesteps'], DQN_result_plot['sum of rewards'])\n",
    "plt.plot(PPO_result_plot['timesteps'], PPO_result_plot['sum of rewards'])\n",
    "plt.xlabel('timesteps')\n",
    "plt.ylabel('sum of rewards')\n",
    "plt.title('DQN_models_Demo-v1_timesteps_result')\n",
    "plt.show()"
   ]
  },
  {
   "cell_type": "code",
   "execution_count": null,
   "metadata": {},
   "outputs": [],
   "source": []
  }
 ],
 "metadata": {
  "kernelspec": {
   "display_name": "Python 3",
   "language": "python",
   "name": "python3"
  },
  "language_info": {
   "codemirror_mode": {
    "name": "ipython",
    "version": 3
   },
   "file_extension": ".py",
   "mimetype": "text/x-python",
   "name": "python",
   "nbconvert_exporter": "python",
   "pygments_lexer": "ipython3",
   "version": "3.9.5"
  },
  "orig_nbformat": 4,
  "vscode": {
   "interpreter": {
    "hash": "916dbcbb3f70747c44a77c7bcd40155683ae19c65e1c03b4aa3499c5328201f1"
   }
  }
 },
 "nbformat": 4,
 "nbformat_minor": 2
}
