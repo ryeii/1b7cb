{
 "cells": [
  {
   "cell_type": "code",
   "execution_count": 8,
   "metadata": {},
   "outputs": [
    {
     "name": "stdout",
     "output_type": "stream",
     "text": [
      "comfort\n",
      "reward_plus:  -3081.0894579726673\n",
      "reward_plus_we0_02:  -3067.026749056396\n",
      "reward_plus_we0_001:  -3021.2694818204636\n",
      "reward_plus_we0:  -3047.650801380999\n",
      "reward_plus_we0_no_confidence:  -3035.2621331830487\n",
      "reward_rulebased:  -2103.551129303439\n",
      "\n",
      "energy\n",
      "reward_plus:  -49974.72436149021\n",
      "reward_plus_we0_02:  -50538.01176761188\n",
      "reward_plus_we0_001:  -51943.51448695961\n",
      "reward_plus_we0:  -50729.84556614844\n",
      "reward_plus_we0_no_confidence:  -51603.76318782909\n",
      "reward_rulebased:  -98429.42000853199\n"
     ]
    }
   ],
   "source": [
    "import pandas as pd\n",
    "import numpy as np\n",
    "\n",
    "# read zimages/reward_plus.csv\n",
    "reward_plus = pd.read_csv('zimages/reward_plus.csv', index_col=0)\n",
    "\n",
    "# read zimages/reward_plus_we0.02.csv\n",
    "reward_plus_we0_02 = pd.read_csv('zimages/reward_plus_we0.02.csv', index_col=0)\n",
    "\n",
    "# read zimages/reward_plus_we0.001.csv\n",
    "reward_plus_we0_001 = pd.read_csv('zimages/reward_plus_we0.001.csv', index_col=0)\n",
    "\n",
    "# read zimages/reward_plus_we0.csv\n",
    "reward_plus_we0 = pd.read_csv('zimages/reward_plus_we0.csv', index_col=0)\n",
    "\n",
    "# read zimages/reward_plus_we0_no_confidence.csv\n",
    "reward_plus_we0_no_confidence = pd.read_csv('zimages/reward_plus_we0_no_confidence.csv', index_col=0)\n",
    "\n",
    "# read zimages/reward_rulebased.csv\n",
    "reward_rulebased = pd.read_csv('zimages/rewards_rulebased.csv', index_col=0)\n",
    "\n",
    "print('comfort')\n",
    "# print sum of comfort reward of first 2000 time steps, put each number vertically for easy comparison\n",
    "print('reward_plus: ', sum(reward_plus['comfort reward'][:2000]))\n",
    "print('reward_plus_we0_02: ', sum(reward_plus_we0_02['comfort reward'][:2000]))\n",
    "print('reward_plus_we0_001: ', sum(reward_plus_we0_001['comfort reward'][:2000]))\n",
    "print('reward_plus_we0: ', sum(reward_plus_we0['comfort reward'][:2000]))\n",
    "print('reward_plus_we0_no_confidence: ', sum(reward_plus_we0_no_confidence['comfort reward'][:2000]))\n",
    "print('reward_rulebased: ', sum(reward_rulebased['comfort reward'][:2000]))\n",
    "\n",
    "print('\\nenergy')\n",
    "# print sum of energy reward of first 2000 time steps, put each number vertically for easy comparison\n",
    "print('reward_plus: ', sum(reward_plus['energy reward'][:2000]))\n",
    "print('reward_plus_we0_02: ', sum(reward_plus_we0_02['energy reward'][:2000]))\n",
    "print('reward_plus_we0_001: ', sum(reward_plus_we0_001['energy reward'][:2000]))\n",
    "print('reward_plus_we0: ', sum(reward_plus_we0['energy reward'][:2000]))\n",
    "print('reward_plus_we0_no_confidence: ', sum(reward_plus_we0_no_confidence['energy reward'][:2000]))\n",
    "print('reward_rulebased: ', sum(reward_rulebased['energy reward'][:2000]))"
   ]
  },
  {
   "cell_type": "code",
   "execution_count": null,
   "metadata": {},
   "outputs": [],
   "source": []
  }
 ],
 "metadata": {
  "kernelspec": {
   "display_name": "Python 3",
   "language": "python",
   "name": "python3"
  },
  "language_info": {
   "codemirror_mode": {
    "name": "ipython",
    "version": 3
   },
   "file_extension": ".py",
   "mimetype": "text/x-python",
   "name": "python",
   "nbconvert_exporter": "python",
   "pygments_lexer": "ipython3",
   "version": "3.10.6"
  },
  "orig_nbformat": 4,
  "vscode": {
   "interpreter": {
    "hash": "916dbcbb3f70747c44a77c7bcd40155683ae19c65e1c03b4aa3499c5328201f1"
   }
  }
 },
 "nbformat": 4,
 "nbformat_minor": 2
}
